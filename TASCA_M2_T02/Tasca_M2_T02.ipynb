{
 "cells": [
  {
   "cell_type": "markdown",
   "id": "73ac40c3",
   "metadata": {},
   "source": [
    "### Exercici 1\n",
    "\n",
    "L'exercici consisteix a crear un programa que et classifiqui una variable numèrica en funció de l’escala Suspès/Aprovat/Notable/Excel·lent.\n",
    "\n",
    "Recorda que Suspès < 5, Aprovat > 5 i < 7, Notable > 7 i < 9 i Excel·lent > 9."
   ]
  },
  {
   "cell_type": "code",
   "execution_count": 25,
   "id": "75c9d0e3",
   "metadata": {},
   "outputs": [
    {
     "name": "stdout",
     "output_type": "stream",
     "text": [
      "Dime una valoración de 1 a 10: 6\n",
      "Estas Aprovat\n"
     ]
    }
   ],
   "source": [
    "# Primer de tot crearé la variable numérica i després faré ús de condicionals que puguin adaptar-se a cada cas de la escala sol·licitada\n",
    "\n",
    "calif = float(input(\"Dime una valoración de 1 a 10: \"))\n",
    "\n",
    "if calif <5:\n",
    "    print(\"Estas Suspés\")\n",
    "elif calif >=5 and calif <7:\n",
    "    print(\"Estas Aprovat\")\n",
    "elif calif >=7 and calif <9:\n",
    "    print(\"Tens un Notable\")\n",
    "else:\n",
    "    print(\"tens un Excel·lent\")"
   ]
  },
  {
   "cell_type": "markdown",
   "id": "06f9f44a",
   "metadata": {},
   "source": [
    "### Exercici 2\n",
    "\n",
    "Crea un programa que et pregunti dos números. T’ha de mostrar un missatge dient si el \n",
    "primer és més gran, el segon és més gran o són iguals."
   ]
  },
  {
   "cell_type": "code",
   "execution_count": 11,
   "id": "af44969e",
   "metadata": {},
   "outputs": [
    {
     "name": "stdout",
     "output_type": "stream",
     "text": [
      "Introdueix un nombre: 10\n",
      "Introdueix un segon nombre: 10\n",
      "els dos nombres son iguals\n"
     ]
    }
   ],
   "source": [
    "\"\"\" He fet el mateix raonament que en el primer exercici. Primer de tot he creat les variables per introduïr els nombres\n",
    "i després he fet ús del mateixos condicionals if, elif i else \"\"\"\n",
    "\n",
    "numero1 = input(\"Introdueix un nombre: \")\n",
    "numero2 = input(\"Introdueix un segon nombre: \")\n",
    "               \n",
    "if numero1 > numero2:\n",
    "               print(\"El primer nombre és més gran que el segon\")\n",
    "elif numero2 > numero1:\n",
    "               print(\"El segon nombre és més gran que el primer\")\n",
    "else:\n",
    "               print(\"els dos nombres son iguals\")\n"
   ]
  },
  {
   "cell_type": "markdown",
   "id": "a571a7e4",
   "metadata": {},
   "source": [
    "### Exercici 3\n",
    "\n",
    "Crea un programa que et pregunti el teu nom, i et demani un número. Si el número és 0, hauria de mostrar un missatge d’error. \n",
    "En cas contrari, hauria de mostrar el nom repetit tants cops com indiqui el número. Per exemple, “Joan Joan Joan”."
   ]
  },
  {
   "cell_type": "code",
   "execution_count": 6,
   "id": "b7bf088e",
   "metadata": {},
   "outputs": [
    {
     "name": "stdout",
     "output_type": "stream",
     "text": [
      "Dona'm el teu nom si ús plau: Gonzalo\n",
      "Ara dona'm un numero si ús plau 5\n",
      "Gonzalo\n",
      "Gonzalo\n",
      "Gonzalo\n",
      "Gonzalo\n",
      "Gonzalo\n"
     ]
    }
   ],
   "source": [
    "nom = input(\"Dona'm el teu nom si ús plau: \")           # cridem un 'str'\n",
    "numero = int(input(\"Ara dona'm un numero si ús plau \")) # ara cridem un nombre per tant 'int'\n",
    "\n",
    "if numero == 0:                                         #llavors iniciem el condicional demanant que si és igual a 0\n",
    "    print(\"error!\")                                     # que torni error\n",
    "else:                                                   # en cas contrari \n",
    "    for x in range(numero):                             # llavors que recorra el rang del número posat\n",
    "             print(nom)                                 # imprimint el nom tantes vegades com números es posin."
   ]
  },
  {
   "cell_type": "markdown",
   "id": "17c4b7f8",
   "metadata": {},
   "source": [
    "### Exercici 4\n",
    "\n",
    "Crea un programa que donada una llista qualsevol, et digui si és simètrica o no. Si ho és, que et digui quants elements té."
   ]
  },
  {
   "cell_type": "code",
   "execution_count": 4,
   "id": "3ae7915e",
   "metadata": {},
   "outputs": [
    {
     "name": "stdout",
     "output_type": "stream",
     "text": [
      "La llista no ès simètrica.\n"
     ]
    }
   ],
   "source": [
    "\"\"\" primer de tot entenc que una llista és simétrica si els elemtns son iguals si es recorren d'esquerra cap a la dreta\n",
    "i de dreta cap l'esquerra \"\"\"\n",
    "\n",
    "def evaluacio_sim(lista):                                                # definim una funció amb una llista com argument. Aquesta funció tindrá adins la lógica del recorregut que s'haurà de fer\n",
    "    longi = len(lista)                                                   # definim una variable que tindra adins el càlcul de la longitud de la llista\n",
    "    for i in range(longi//2):                                            # fem un cicle for per fer el recorregut de la llista pel rang dividit en dos (//2, no ens interessan els residus, no ens serveixen ara mateix). S'ha de dir que com que compararem una llista impar el element del mig no será evaluat.\n",
    "        if lista[i] != lista[longi-i-1]:                                 # Com que el bucle anirá comparant el primer element amb el penúltim i així fins el mig, quan vegi que un elemten no coincideix amb el de l'altre meitat llavors donará false. per tant la llista no será simètrica.\n",
    "            return False\n",
    "    return True                                                          # en el cas contrari tornará true, es a dir la llista si és simètrica.\n",
    "\n",
    "mi_lista = [1, 2, 3, 4, 3, 2, 1]                                         # ara creem la llista. Una llista simètrica.\n",
    "\n",
    "if evaluacio_sim(mi_lista):                                              # ara inciem el condicional per comprovar si la nostra llista ès siètrica o no. Pusem la nostra variable creada com l'argument de la funció.\n",
    "    print(\"La llista és simètrica i té\", len(mi_lista), \"elements.\")     # a més a més introduïm el mètode len() per calcular el nombre de elements en cas de donar true.\n",
    "else:                                                                    # si no llavors ens dirá que la llista no ès simètrica.\n",
    "    print(\"La llista no ès simètrica.\")\n"
   ]
  },
  {
   "cell_type": "markdown",
   "id": "ee243b8f",
   "metadata": {},
   "source": [
    "### Exercici 5\n",
    "\n",
    "Crea un programa que donada una llista, et digui quants números coincideixen amb la seva posició. \n",
    "Per exemple [3,4,2,0,2,3,6] el 2 i el 6 coincideixen."
   ]
  },
  {
   "cell_type": "code",
   "execution_count": 24,
   "id": "dddf8916",
   "metadata": {},
   "outputs": [
    {
     "name": "stdout",
     "output_type": "stream",
     "text": [
      "El nombre amb l'index 5 coincideixen\n",
      "El nombre amb l'index 6 coincideixen\n"
     ]
    }
   ],
   "source": [
    "llista = [3,5,8,7,1,5,6]                                  # creem una llista qualsevol\n",
    "llista_indices = list(range(len(llista)))                 # ara creem una segona llista amb els index que ens servirán per fer la comparació posterior.\n",
    "\n",
    "for x, y in zip(llista_indices, llista):                  # ara fem el recorregut per cada element de les dues llistas a través de ZIP.\n",
    "    if x == y:                                            # finalment evaluem si el element x és igual a y llavors posar que coincideixen\n",
    "        print(f\"El nombre amb l'index {x} coincideixen\")\n",
    "\n",
    "# llavors podem veure que dos números només coincideixen amb la seva posició"
   ]
  },
  {
   "cell_type": "code",
   "execution_count": null,
   "id": "de10bf93",
   "metadata": {},
   "outputs": [],
   "source": []
  }
 ],
 "metadata": {
  "kernelspec": {
   "display_name": "Python 3 (ipykernel)",
   "language": "python",
   "name": "python3"
  },
  "language_info": {
   "codemirror_mode": {
    "name": "ipython",
    "version": 3
   },
   "file_extension": ".py",
   "mimetype": "text/x-python",
   "name": "python",
   "nbconvert_exporter": "python",
   "pygments_lexer": "ipython3",
   "version": "3.9.12"
  },
  "latex_envs": {
   "LaTeX_envs_menu_present": true,
   "autoclose": false,
   "autocomplete": true,
   "bibliofile": "biblio.bib",
   "cite_by": "apalike",
   "current_citInitial": 1,
   "eqLabelWithNumbers": true,
   "eqNumInitial": 1,
   "hotkeys": {
    "equation": "Ctrl-E",
    "itemize": "Ctrl-I"
   },
   "labels_anchors": false,
   "latex_user_defs": false,
   "report_style_numbering": false,
   "user_envs_cfg": false
  }
 },
 "nbformat": 4,
 "nbformat_minor": 5
}
