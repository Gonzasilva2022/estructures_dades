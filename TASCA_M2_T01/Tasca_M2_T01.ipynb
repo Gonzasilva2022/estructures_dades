{
 "cells": [
  {
   "cell_type": "markdown",
   "id": "e22e5558",
   "metadata": {},
   "source": [
    "# Exercici 1"
   ]
  },
  {
   "cell_type": "markdown",
   "id": "017d3482",
   "metadata": {},
   "source": [
    "### Crea una llista que agrupi els mesos de l’any en trimestres (1T: gener, febrer i març; 2T: abril, maig, juny...), és a dir, una llista amb 4 llistes dins."
   ]
  },
  {
   "cell_type": "code",
   "execution_count": 1,
   "id": "186531f6",
   "metadata": {},
   "outputs": [],
   "source": [
    "\"\"\" Per resoldre aquest exercici hem de fer llistes anidades, per tant crearem la llista \"mesos_any\" i dins d'aquesta \n",
    "cada trimestre amb els seus mesos \"\"\""
   ]
  },
  {
   "cell_type": "code",
   "execution_count": 1,
   "id": "8a7fc6fc",
   "metadata": {},
   "outputs": [
    {
     "name": "stdout",
     "output_type": "stream",
     "text": [
      "[['t1', ['gener', 'febrer', 'març']], ['t2', ['abril', 'maig', 'juny']], ['t3', ['juliol', 'agost', 'setembre']], ['t4', ['octubre', 'novembre', 'decembre']]]\n"
     ]
    }
   ],
   "source": [
    "mesos_any = [[\"t1\",[\"gener\",\"febrer\",\"març\"]],\n",
    "             [\"t2\",[\"abril\",\"maig\",\"juny\"]],\n",
    "             [\"t3\",[\"juliol\",\"agost\",\"setembre\"]],\n",
    "             [\"t4\",[\"octubre\",\"novembre\",\"decembre\"]]]\n",
    "\n",
    "print(mesos_any)  \n"
   ]
  },
  {
   "cell_type": "markdown",
   "id": "36aa459c",
   "metadata": {},
   "source": [
    "# Exercici 2"
   ]
  },
  {
   "cell_type": "markdown",
   "id": "0b2f6cea",
   "metadata": {},
   "source": [
    "### Crea un codi que et permeti accedir a:\n",
    "\n",
    "* El segon mes del primer trimestre\n",
    "* Els mesos del primer trimestre\n",
    "* Setembre i octubre"
   ]
  },
  {
   "cell_type": "markdown",
   "id": "5f9b60ab",
   "metadata": {},
   "source": [
    "### El segon mes del primer trimestre"
   ]
  },
  {
   "cell_type": "code",
   "execution_count": 3,
   "id": "57033dd1",
   "metadata": {},
   "outputs": [
    {
     "name": "stdout",
     "output_type": "stream",
     "text": [
      "febrer\n"
     ]
    }
   ],
   "source": [
    "\"\"\" Per extraure l'element que us demanen em d'imprimir la llista general \"mesos_any\" i després demanar el index zero \n",
    "per extraure el \"t1\". Seguit això em de cridar l'index 1 per obtenir els mesos i finalmente cridar el index 1 per \n",
    "extraure la dada solicitada que és \"febrer\" o segon mes del primer trimestre \"\"\"\n",
    "\n",
    "print(mesos_any[0][1][1])"
   ]
  },
  {
   "cell_type": "markdown",
   "id": "f4cdea05",
   "metadata": {},
   "source": [
    "### Els mesos del primer trimestre"
   ]
  },
  {
   "cell_type": "code",
   "execution_count": 4,
   "id": "177f0494",
   "metadata": {},
   "outputs": [
    {
     "name": "stdout",
     "output_type": "stream",
     "text": [
      "['gener', 'febrer', 'març']\n"
     ]
    }
   ],
   "source": [
    "\"\"\" Aqui em de cridar només dos index. l'ndex 0 per obtenir el primer trimestre i després l'index 1 per obtenir\n",
    "tots els mesos \"\"\"\n",
    "\n",
    "print(mesos_any[0][1])"
   ]
  },
  {
   "cell_type": "markdown",
   "id": "b0bf7c50",
   "metadata": {},
   "source": [
    "### Setembre i octubre"
   ]
  },
  {
   "cell_type": "code",
   "execution_count": null,
   "id": "1c67796b",
   "metadata": {},
   "outputs": [],
   "source": [
    "\"\"\" En aquest cas per tenir un resultat integrat que ens retornir els mesos sollicitats, farem servir la condició \"if\". \n",
    "Per tant si l'expressió es veritat ens retornará els mesos demanats\"\"."
   ]
  },
  {
   "cell_type": "code",
   "execution_count": 5,
   "id": "60ef990c",
   "metadata": {},
   "outputs": [
    {
     "name": "stdout",
     "output_type": "stream",
     "text": [
      "setembre i octubre\n"
     ]
    }
   ],
   "source": [
    "if \"setembre\" in mesos_any[2][1] and \"octubre\" in mesos_any[3][1]:\n",
    "    print(\"setembre i octubre\")\n",
    "else:\n",
    "    print(\"aquests mesos no existeixen\")"
   ]
  },
  {
   "cell_type": "markdown",
   "id": "5725c2ab",
   "metadata": {},
   "source": [
    "# Exercici 3\n",
    "\n",
    "\n",
    "## Crea una llista amb nombres desordenats i respon a les següents preguntes:\n",
    "\n",
    "* Quants números hi ha?\n",
    "* Quantes vegades apareix el número 3.\n",
    "* Quantes vegades apareixen els nombres 3 i 4?\n",
    "* Quin és el número més gran?\n",
    "* Quins són els 3 números més petits?\n",
    "* Quin és el rang d’aquesta llista?"
   ]
  },
  {
   "cell_type": "markdown",
   "id": "e2c9d1ae",
   "metadata": {},
   "source": [
    "### Creació de la llista"
   ]
  },
  {
   "cell_type": "code",
   "execution_count": 2,
   "id": "f6c6e094",
   "metadata": {},
   "outputs": [
    {
     "name": "stdout",
     "output_type": "stream",
     "text": [
      "[2, 2, 7, 8, 8, 1, 10, 8, 3, 1]\n"
     ]
    }
   ],
   "source": [
    "\"\"\" per poder accedir a una llista de nombres desordenats podem fer servir la funció random.randit. \n",
    "Per això hem de importar primer de tot aquesta funció, cridant a import. Així llavors podrem fer el bucle que ens torni\n",
    "una quantitat limitada de nombres aleatoris (rang 30) dins d'un interval donat\"\"\"\n",
    "\n",
    "import random\n",
    "\n",
    "llista_random = [random.randint(1,10) for x in range(10)]\n",
    "\n",
    "print(llista_random)"
   ]
  },
  {
   "cell_type": "markdown",
   "id": "0ba1a5de",
   "metadata": {},
   "source": [
    "### Quants números hi ha?"
   ]
  },
  {
   "cell_type": "code",
   "execution_count": 19,
   "id": "81023641",
   "metadata": {},
   "outputs": [
    {
     "name": "stdout",
     "output_type": "stream",
     "text": [
      "10\n"
     ]
    }
   ],
   "source": [
    "print(len(llista_random))"
   ]
  },
  {
   "cell_type": "markdown",
   "id": "a0b77fb1",
   "metadata": {},
   "source": [
    "### Quantes vegades apareix el número 3?"
   ]
  },
  {
   "cell_type": "code",
   "execution_count": 20,
   "id": "529c001d",
   "metadata": {},
   "outputs": [
    {
     "name": "stdout",
     "output_type": "stream",
     "text": [
      "1\n"
     ]
    }
   ],
   "source": [
    "x = llista_random.count(3)\n",
    "print(x)"
   ]
  },
  {
   "cell_type": "markdown",
   "id": "2dda05e5",
   "metadata": {},
   "source": [
    "### Quantes vegades apareixen els nombres 3 i 4?"
   ]
  },
  {
   "cell_type": "code",
   "execution_count": 21,
   "id": "ba91df94",
   "metadata": {},
   "outputs": [
    {
     "name": "stdout",
     "output_type": "stream",
     "text": [
      "2\n"
     ]
    }
   ],
   "source": [
    "x = llista_random.count(3)\n",
    "y = llista_random.count(4)\n",
    "\n",
    "print(x+y)"
   ]
  },
  {
   "cell_type": "markdown",
   "id": "9351c009",
   "metadata": {},
   "source": [
    "### Quin és el número més gran?"
   ]
  },
  {
   "cell_type": "code",
   "execution_count": 22,
   "id": "0d129245",
   "metadata": {},
   "outputs": [
    {
     "name": "stdout",
     "output_type": "stream",
     "text": [
      "10\n"
     ]
    }
   ],
   "source": [
    "maxim = max(llista_random)\n",
    "\n",
    "print(maxim)"
   ]
  },
  {
   "cell_type": "markdown",
   "id": "9502bd03",
   "metadata": {},
   "source": [
    "### Quins són els 3 números més petits?"
   ]
  },
  {
   "cell_type": "code",
   "execution_count": 23,
   "id": "8da7f50f",
   "metadata": {},
   "outputs": [
    {
     "name": "stdout",
     "output_type": "stream",
     "text": [
      "[2, 3, 4]\n"
     ]
    }
   ],
   "source": [
    "\"\"\" Para resoldre aquest exercici importarem el módul \"heapq\" a través del cual podrem fer servir la funció \n",
    "smallest. Aquesta funció torna una llista amb els elements més petits del conjunt de dades definides\"\"\"\n",
    "\n",
    "import heapq\n",
    "\n",
    "petits = heapq.nsmallest(3, llista_random)\n",
    "\n",
    "print(petits)"
   ]
  },
  {
   "cell_type": "markdown",
   "id": "7e5e9451",
   "metadata": {},
   "source": [
    "### Quin és el rang d’aquesta llista?"
   ]
  },
  {
   "cell_type": "code",
   "execution_count": 3,
   "id": "5eb6cb50",
   "metadata": {},
   "outputs": [
    {
     "name": "stdout",
     "output_type": "stream",
     "text": [
      "[2, 2, 7, 8, 8, 1, 10, 8, 3, 1]\n"
     ]
    }
   ],
   "source": [
    "print(llista_random)"
   ]
  },
  {
   "cell_type": "markdown",
   "id": "71625a39",
   "metadata": {},
   "source": [
    "### Quin és el rang d’aquesta llista?"
   ]
  },
  {
   "cell_type": "code",
   "execution_count": 5,
   "id": "704e93d6",
   "metadata": {},
   "outputs": [
    {
     "data": {
      "text/plain": [
       "9"
      ]
     },
     "execution_count": 5,
     "metadata": {},
     "output_type": "execute_result"
    }
   ],
   "source": [
    "\"\"\" si entenem que el rang d'una llista de elements és el valor numèric entre el valor máxim i el mínim d'una població,\n",
    "llavors farem el següent\"\"\"\n",
    "\n",
    "max(llista_random) - min(llista_random)"
   ]
  },
  {
   "cell_type": "markdown",
   "id": "1a4a1970",
   "metadata": {},
   "source": [
    "# Exercici 4\n",
    "\n",
    "Crea un diccionari de la següent forma i respon a les preguntes:\n",
    "\n",
    "compra = { \"Pomes\" : {\"Qty\": 5, \"€\": 0.42}, \"Peres\" : {\"Qty\": 3, \"€\": 0.66} }\n",
    "\n",
    "* Afegeix alguna fruita més\n",
    "* Quant han costat les peres en total?\n",
    "* Quantes fruites hem comprat en total?\n",
    "* Quina és la fruita més cara?\n"
   ]
  },
  {
   "cell_type": "markdown",
   "id": "eb730dc6",
   "metadata": {},
   "source": [
    "### Creació del diccionari"
   ]
  },
  {
   "cell_type": "code",
   "execution_count": 8,
   "id": "aebe7a19",
   "metadata": {},
   "outputs": [
    {
     "name": "stdout",
     "output_type": "stream",
     "text": [
      "{'Pomes': {'Qty': 5, '€': 0.42}, 'Peres': {'Qty': 3, '€': 0.66}}\n"
     ]
    }
   ],
   "source": [
    "compra = { \"Pomes\" : {\"Qty\": 5, \"€\": 0.42}, \n",
    "           \"Peres\" : {\"Qty\": 3, \"€\": 0.66} \n",
    "         }\n",
    "\n",
    "print(compra)"
   ]
  },
  {
   "cell_type": "markdown",
   "id": "075a6c8d",
   "metadata": {},
   "source": [
    "### Afegeix alguna fruita més"
   ]
  },
  {
   "cell_type": "code",
   "execution_count": 15,
   "id": "7fb21c9f",
   "metadata": {},
   "outputs": [
    {
     "name": "stdout",
     "output_type": "stream",
     "text": [
      "{'Pomes': {'Qty': 5, '€': 0.42}, 'Peres': {'Qty': 3, '€': 0.66}, 'Platans': {'Qty': 4, '€': 0.52}}\n"
     ]
    }
   ],
   "source": [
    "compra.update({\"Platans\" : {\"Qty\": 4, \"€\": 0.52}})\n",
    "\n",
    "print(compra)"
   ]
  },
  {
   "cell_type": "markdown",
   "id": "524dc006",
   "metadata": {},
   "source": [
    "### Quant han costat les peres en total?"
   ]
  },
  {
   "cell_type": "code",
   "execution_count": 52,
   "id": "b3f063e9",
   "metadata": {},
   "outputs": [
    {
     "name": "stdout",
     "output_type": "stream",
     "text": [
      "3\n",
      "0.66\n",
      "Las Peres han costat 1.98 €\n"
     ]
    }
   ],
   "source": [
    "# com que 0.66€ per 5 peres el trobo massa barat he assumit que cada pere té un preu de 0.66€.\n",
    "\n",
    "a = compra[\"Peres\"][\"Qty\"]\n",
    "valor_peres = compra[\"Peres\"][\"€\"]\n",
    "\n",
    "print(a)\n",
    "print(valor_peres)\n",
    "\n",
    "print(\"Las Peres han costat\",a*valor_peres,\"€\")"
   ]
  },
  {
   "cell_type": "markdown",
   "id": "6d925817",
   "metadata": {},
   "source": [
    "### Quantes fruites hem comprat en total?"
   ]
  },
  {
   "cell_type": "code",
   "execution_count": 69,
   "id": "b127371c",
   "metadata": {},
   "outputs": [
    {
     "name": "stdout",
     "output_type": "stream",
     "text": [
      "3\n",
      "5\n",
      "4\n",
      "Hem comprat un total de 12 fruitas\n"
     ]
    }
   ],
   "source": [
    "a = compra[\"Peres\"][\"Qty\"]\n",
    "b = compra[\"Pomes\"][\"Qty\"]\n",
    "c = compra[\"Platans\"][\"Qty\"]\n",
    "\n",
    "print(a)\n",
    "print(b)\n",
    "print(c)\n",
    "\n",
    "print(\"Hem comprat un total de\",a+b+c,\"fruitas\")"
   ]
  },
  {
   "cell_type": "markdown",
   "id": "8870d771",
   "metadata": {},
   "source": [
    "### Quina és la fruita més cara?"
   ]
  },
  {
   "cell_type": "code",
   "execution_count": 71,
   "id": "fe0f80bb",
   "metadata": {},
   "outputs": [
    {
     "name": "stdout",
     "output_type": "stream",
     "text": [
      "('Pomes', {'Qty': 5, '€': 0.42})\n",
      "('Peres', {'Qty': 3, '€': 0.66})\n",
      "('Platans', {'Qty': 4, '€': 0.52})\n"
     ]
    }
   ],
   "source": []
  },
  {
   "cell_type": "code",
   "execution_count": 56,
   "id": "7ff53118",
   "metadata": {},
   "outputs": [
    {
     "name": "stdout",
     "output_type": "stream",
     "text": [
      "La fruita més cara és pome\n",
      "La fuita més cara és 0.66\n"
     ]
    }
   ],
   "source": [
    "# He assumit que cada pere, poma i platan tenen un preu de 0.66€, 0.42€ i 0.52€ respectivament.\n",
    "\n",
    "valor_peres = compra[\"Peres\"][\"€\"]\n",
    "valor_pomes = compra[\"Pomes\"][\"€\"]\n",
    "valor_platans = compra[\"Platans\"][\"€\"]\n",
    "\n",
    "maxim_valor = max(valor_peres,valor_pomes,valor_platans)\n",
    "\n",
    "if maxim_valor == 0.66:\n",
    "    print(\"La fruita més cara és la pere\")\n",
    "\n",
    "print(\"La fruita més cara és\",maxim_valor)\n",
    "\n"
   ]
  },
  {
   "cell_type": "code",
   "execution_count": 75,
   "id": "03cd9109",
   "metadata": {},
   "outputs": [
    {
     "name": "stdout",
     "output_type": "stream",
     "text": [
      "('Pomes', {'Qty': 5, '€': 0.42})\n",
      "('Peres', {'Qty': 3, '€': 0.66})\n",
      "('Platans', {'Qty': 4, '€': 0.52})\n"
     ]
    }
   ],
   "source": [
    "for x in compra.items():\n",
    "    print(x)"
   ]
  },
  {
   "cell_type": "code",
   "execution_count": 78,
   "id": "bf80e1c1",
   "metadata": {},
   "outputs": [
    {
     "name": "stdout",
     "output_type": "stream",
     "text": [
      "manzanas\n",
      "La fruta más cara es: Peras\n"
     ]
    }
   ],
   "source": [
    "compra = {\"manzanas\": {\"Qty\": 5, \"€\": 0.42}, \"Peras\": {\"Qty\": 3, \"€\": 0.66}}\n",
    "\n",
    "# Inicializamos la variable 'fruta_mas_cara' con el nombre de la primera fruta en el diccionario\n",
    "fruta_mas_cara = list(compra.keys())[0]\n",
    "\n",
    "print(fruta_mas_cara)\n",
    "\n",
    "# Recorremos el diccionario, comparando los precios para encontrar la fruta más cara\n",
    "for fruta, info in compra.items():\n",
    "    precio = info[\"€\"]\n",
    "    if precio > compra[fruta_mas_cara][\"€\"]:\n",
    "        fruta_mas_cara = fruta\n",
    "\n",
    "# Imprimimos el resultado\n",
    "print(\"La fruta más cara es:\", fruta_mas_cara)\n"
   ]
  },
  {
   "cell_type": "code",
   "execution_count": null,
   "id": "7eb90ea8",
   "metadata": {},
   "outputs": [],
   "source": []
  }
 ],
 "metadata": {
  "kernelspec": {
   "display_name": "Python 3 (ipykernel)",
   "language": "python",
   "name": "python3"
  },
  "language_info": {
   "codemirror_mode": {
    "name": "ipython",
    "version": 3
   },
   "file_extension": ".py",
   "mimetype": "text/x-python",
   "name": "python",
   "nbconvert_exporter": "python",
   "pygments_lexer": "ipython3",
   "version": "3.9.12"
  },
  "latex_envs": {
   "LaTeX_envs_menu_present": true,
   "autoclose": false,
   "autocomplete": true,
   "bibliofile": "biblio.bib",
   "cite_by": "apalike",
   "current_citInitial": 1,
   "eqLabelWithNumbers": true,
   "eqNumInitial": 1,
   "hotkeys": {
    "equation": "Ctrl-E",
    "itemize": "Ctrl-I"
   },
   "labels_anchors": false,
   "latex_user_defs": false,
   "report_style_numbering": false,
   "user_envs_cfg": false
  }
 },
 "nbformat": 4,
 "nbformat_minor": 5
}
